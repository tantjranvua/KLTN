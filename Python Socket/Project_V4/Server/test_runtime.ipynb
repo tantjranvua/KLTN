{
 "cells": [
  {
   "cell_type": "code",
   "execution_count": 4,
   "metadata": {},
   "outputs": [
    {
     "name": "stdout",
     "output_type": "stream",
     "text": [
      "Found 25000 images belonging to 2 classes.\n",
      "Epoch 1/10\n",
      "782/782 [==============================] - 65s 81ms/step - loss: 0.7179 - acc: 0.5538\n",
      "Epoch 2/10\n",
      "782/782 [==============================] - 64s 81ms/step - loss: 0.6629 - acc: 0.5942\n",
      "Epoch 3/10\n",
      "782/782 [==============================] - 63s 81ms/step - loss: 0.6261 - acc: 0.6469\n",
      "Epoch 4/10\n",
      "782/782 [==============================] - 64s 81ms/step - loss: 0.5852 - acc: 0.6871\n",
      "Epoch 5/10\n",
      "782/782 [==============================] - 64s 81ms/step - loss: 0.5307 - acc: 0.7348\n",
      "Epoch 6/10\n",
      "782/782 [==============================] - 64s 81ms/step - loss: 0.4746 - acc: 0.7735\n",
      "Epoch 7/10\n",
      "782/782 [==============================] - 64s 82ms/step - loss: 0.4213 - acc: 0.8040\n",
      "Epoch 8/10\n",
      "782/782 [==============================] - 66s 84ms/step - loss: 0.3680 - acc: 0.8356\n",
      "Epoch 9/10\n",
      "782/782 [==============================] - 61s 78ms/step - loss: 0.3137 - acc: 0.8634\n",
      "Epoch 10/10\n",
      "782/782 [==============================] - 61s 78ms/step - loss: 0.2587 - acc: 0.8896\n",
      "--- 0:10:34.223506 ---\n",
      "782/782 [==============================] - 57s 72ms/step - loss: 0.2044 - acc: 0.9230\n"
     ]
    },
    {
     "data": {
      "text/plain": [
       "[0.20438748598098755, 0.9229599833488464]"
      ]
     },
     "execution_count": 4,
     "metadata": {},
     "output_type": "execute_result"
    }
   ],
   "source": [
    "import modelbuild\n",
    "import tensorflow as tf\n",
    "from tensorflow import keras\n",
    "from datetime import datetime\n",
    "\n",
    "img_gen = tf.keras.preprocessing.image.ImageDataGenerator(rescale=1/255)\n",
    "train_gen = img_gen.flow_from_directory('./train',class_mode=\"binary\")\n",
    "\n",
    "model= modelbuild.buildmodel().compiled_model()\n",
    "model.compile(loss = model.loss,optimizer=model.optimizer, metrics=['acc'])\n",
    "\n",
    "start=datetime.now()\n",
    "model.fit(train_gen,epochs=10)\n",
    "print(\"--- %s ---\" % (datetime.now()-start))\n",
    "\n",
    "model.evaluate(train_gen)"
   ]
  },
  {
   "cell_type": "code",
   "execution_count": 2,
   "metadata": {},
   "outputs": [
    {
     "name": "stdout",
     "output_type": "stream",
     "text": [
      "Found 25000 images belonging to 2 classes.\n",
      "782/782 [==============================] - 57s 72ms/step - loss: 0.4792 - acc: 0.7841\n"
     ]
    },
    {
     "data": {
      "text/plain": [
       "[0.47919324040412903, 0.7841200232505798]"
      ]
     },
     "execution_count": 2,
     "metadata": {},
     "output_type": "execute_result"
    }
   ],
   "source": [
    "import modelbuild\n",
    "import tensorflow as tf\n",
    "file_name = 'model.h5'\n",
    "\n",
    "img_gen = tf.keras.preprocessing.image.ImageDataGenerator(rescale=1/255)\n",
    "train_gen = img_gen.flow_from_directory('./train',class_mode=\"binary\")\n",
    "\n",
    "model=tf.keras.models.load_model(file_name)\n",
    "model.compile(loss = model.loss,optimizer=model.optimizer, metrics=['acc'])\n",
    "model.evaluate(train_gen)"
   ]
  },
  {
   "cell_type": "code",
   "execution_count": null,
   "metadata": {},
   "outputs": [],
   "source": []
  }
 ],
 "metadata": {
  "kernelspec": {
   "display_name": "Python 3.8.11 ('ailab')",
   "language": "python",
   "name": "python3"
  },
  "language_info": {
   "codemirror_mode": {
    "name": "ipython",
    "version": 3
   },
   "file_extension": ".py",
   "mimetype": "text/x-python",
   "name": "python",
   "nbconvert_exporter": "python",
   "pygments_lexer": "ipython3",
   "version": "3.8.11"
  },
  "orig_nbformat": 4,
  "vscode": {
   "interpreter": {
    "hash": "b268c2c218416cd16f9c91b64c38522ed8325a3910381b3c66956ca1cffd6f2f"
   }
  }
 },
 "nbformat": 4,
 "nbformat_minor": 2
}
